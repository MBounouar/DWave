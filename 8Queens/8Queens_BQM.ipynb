{
  "nbformat": 4,
  "nbformat_minor": 0,
  "metadata": {
    "kernelspec": {
      "display_name": "Python 3",
      "language": "python",
      "name": "python3"
    },
    "language_info": {
      "codemirror_mode": {
        "name": "ipython",
        "version": 3
      },
      "file_extension": ".py",
      "mimetype": "text/x-python",
      "name": "python",
      "nbconvert_exporter": "python",
      "pygments_lexer": "ipython3",
      "version": "3.7.6"
    },
    "colab": {
      "name": "8Queens-BQM.ipynb",
      "provenance": [],
      "collapsed_sections": []
    }
  },
  "cells": [
    {
      "cell_type": "markdown",
      "metadata": {
        "id": "YJd_35bzNjFs"
      },
      "source": [
        "   # DWave 8 Queens Problem - CDL Quantum 2020\n",
        "   \n",
        "   A solution to the 8 Queens problem using 4 quadratic constraints.\n",
        "   \n",
        "   Code also allows for a more general N queens on a square board of size S\n",
        "   "
      ]
    },
    {
      "cell_type": "code",
      "metadata": {
        "id": "2-HnL1E3TrVW"
      },
      "source": [
        "token=None #'xxxxxxxxxxxxxxxxxxxxxxxxxxxxxxxxxx'"
      ],
      "execution_count": 1,
      "outputs": []
    },
    {
      "cell_type": "code",
      "metadata": {
        "colab": {
          "base_uri": "https://localhost:8080/"
        },
        "id": "1cMJ8dg0NqKe",
        "outputId": "f03aeedc-d0bd-4dee-c8b3-700179a3e9e1"
      },
      "source": [
        "!pip install dwave-ocean-sdk"
      ],
      "execution_count": 2,
      "outputs": [
        {
          "output_type": "stream",
          "name": "stdout",
          "text": [
            "Requirement already satisfied: dwave-ocean-sdk in /usr/local/lib/python3.7/dist-packages (4.2.0)\n",
            "Requirement already satisfied: minorminer==0.2.6 in /usr/local/lib/python3.7/dist-packages (from dwave-ocean-sdk) (0.2.6)\n",
            "Requirement already satisfied: penaltymodel==0.16.5 in /usr/local/lib/python3.7/dist-packages (from dwave-ocean-sdk) (0.16.5)\n",
            "Requirement already satisfied: dwave-system==1.10.0 in /usr/local/lib/python3.7/dist-packages (from dwave-ocean-sdk) (1.10.0)\n",
            "Requirement already satisfied: dimod==0.10.7 in /usr/local/lib/python3.7/dist-packages (from dwave-ocean-sdk) (0.10.7)\n",
            "Requirement already satisfied: dwave-cloud-client==0.9.2 in /usr/local/lib/python3.7/dist-packages (from dwave-ocean-sdk) (0.9.2)\n",
            "Requirement already satisfied: dwave-greedy==0.2.1 in /usr/local/lib/python3.7/dist-packages (from dwave-ocean-sdk) (0.2.1)\n",
            "Requirement already satisfied: dwave-inspector==0.2.7 in /usr/local/lib/python3.7/dist-packages (from dwave-ocean-sdk) (0.2.7)\n",
            "Requirement already satisfied: penaltymodel-lp==0.1.5 in /usr/local/lib/python3.7/dist-packages (from dwave-ocean-sdk) (0.1.5)\n",
            "Requirement already satisfied: dwavebinarycsp==0.1.3 in /usr/local/lib/python3.7/dist-packages (from dwave-ocean-sdk) (0.1.3)\n",
            "Requirement already satisfied: pyqubo==1.0.13 in /usr/local/lib/python3.7/dist-packages (from dwave-ocean-sdk) (1.0.13)\n",
            "Requirement already satisfied: dwave-hybrid==0.6.4 in /usr/local/lib/python3.7/dist-packages (from dwave-ocean-sdk) (0.6.4)\n",
            "Requirement already satisfied: penaltymodel-mip==0.2.5 in /usr/local/lib/python3.7/dist-packages (from dwave-ocean-sdk) (0.2.5)\n",
            "Requirement already satisfied: dwave-qbsolv==0.3.3 in /usr/local/lib/python3.7/dist-packages (from dwave-ocean-sdk) (0.3.3)\n",
            "Requirement already satisfied: dwave-preprocessing==0.3.1.post0 in /usr/local/lib/python3.7/dist-packages (from dwave-ocean-sdk) (0.3.1.post0)\n",
            "Requirement already satisfied: dwave-neal==0.5.8 in /usr/local/lib/python3.7/dist-packages (from dwave-ocean-sdk) (0.5.8)\n",
            "Requirement already satisfied: dwave-tabu==0.4.2 in /usr/local/lib/python3.7/dist-packages (from dwave-ocean-sdk) (0.4.2)\n",
            "Requirement already satisfied: dwave-networkx==0.8.10 in /usr/local/lib/python3.7/dist-packages (from dwave-ocean-sdk) (0.8.10)\n",
            "Requirement already satisfied: penaltymodel-cache==0.4.4 in /usr/local/lib/python3.7/dist-packages (from dwave-ocean-sdk) (0.4.4)\n",
            "Requirement already satisfied: numpy!=1.21.0,!=1.21.1,<2.0.0,>=1.17.3 in /usr/local/lib/python3.7/dist-packages (from dimod==0.10.7->dwave-ocean-sdk) (1.19.5)\n",
            "Requirement already satisfied: pyparsing<3.0.0,>=2.4.7 in /usr/local/lib/python3.7/dist-packages (from dimod==0.10.7->dwave-ocean-sdk) (2.4.7)\n",
            "Requirement already satisfied: requests[socks]>=2.18 in /usr/local/lib/python3.7/dist-packages (from dwave-cloud-client==0.9.2->dwave-ocean-sdk) (2.23.0)\n",
            "Requirement already satisfied: python-dateutil>=2.7 in /usr/local/lib/python3.7/dist-packages (from dwave-cloud-client==0.9.2->dwave-ocean-sdk) (2.8.2)\n",
            "Requirement already satisfied: diskcache>=5.2.1 in /usr/local/lib/python3.7/dist-packages (from dwave-cloud-client==0.9.2->dwave-ocean-sdk) (5.3.0)\n",
            "Requirement already satisfied: homebase>=1.0 in /usr/local/lib/python3.7/dist-packages (from dwave-cloud-client==0.9.2->dwave-ocean-sdk) (1.0.1)\n",
            "Requirement already satisfied: pydantic>=1.7.3 in /usr/local/lib/python3.7/dist-packages (from dwave-cloud-client==0.9.2->dwave-ocean-sdk) (1.8.2)\n",
            "Requirement already satisfied: plucky>=0.4.3 in /usr/local/lib/python3.7/dist-packages (from dwave-cloud-client==0.9.2->dwave-ocean-sdk) (0.4.3)\n",
            "Requirement already satisfied: click>=7.0 in /usr/local/lib/python3.7/dist-packages (from dwave-cloud-client==0.9.2->dwave-ocean-sdk) (7.1.2)\n",
            "Requirement already satisfied: importlib-metadata>=1.0 in /usr/local/lib/python3.7/dist-packages (from dwave-greedy==0.2.1->dwave-ocean-sdk) (4.8.2)\n",
            "Requirement already satisfied: networkx in /usr/local/lib/python3.7/dist-packages (from dwave-hybrid==0.6.4->dwave-ocean-sdk) (2.6.3)\n",
            "Requirement already satisfied: Flask>=1.1.1 in /usr/local/lib/python3.7/dist-packages (from dwave-inspector==0.2.7->dwave-ocean-sdk) (1.1.4)\n",
            "Requirement already satisfied: importlib-resources>=3.2.0 in /usr/local/lib/python3.7/dist-packages (from dwave-inspector==0.2.7->dwave-ocean-sdk) (5.4.0)\n",
            "Requirement already satisfied: decorator<5.0.0,>=4.1.0 in /usr/local/lib/python3.7/dist-packages (from dwave-networkx==0.8.10->dwave-ocean-sdk) (4.4.2)\n",
            "Requirement already satisfied: six<2.0.0,>=1.11.0 in /usr/local/lib/python3.7/dist-packages (from dwavebinarycsp==0.1.3->dwave-ocean-sdk) (1.15.0)\n",
            "Requirement already satisfied: fasteners in /usr/local/lib/python3.7/dist-packages (from minorminer==0.2.6->dwave-ocean-sdk) (0.16.3)\n",
            "Requirement already satisfied: scipy in /usr/local/lib/python3.7/dist-packages (from minorminer==0.2.6->dwave-ocean-sdk) (1.7.3)\n",
            "Requirement already satisfied: ortools<9.0.0,>=6.6.4659 in /usr/local/lib/python3.7/dist-packages (from penaltymodel-mip==0.2.5->dwave-ocean-sdk) (8.2.8710)\n",
            "Requirement already satisfied: Deprecated>=1.2.12 in /usr/local/lib/python3.7/dist-packages (from pyqubo==1.0.13->dwave-ocean-sdk) (1.2.13)\n",
            "Requirement already satisfied: wrapt<2,>=1.10 in /usr/local/lib/python3.7/dist-packages (from Deprecated>=1.2.12->pyqubo==1.0.13->dwave-ocean-sdk) (1.13.3)\n",
            "Requirement already satisfied: Jinja2<3.0,>=2.10.1 in /usr/local/lib/python3.7/dist-packages (from Flask>=1.1.1->dwave-inspector==0.2.7->dwave-ocean-sdk) (2.11.3)\n",
            "Requirement already satisfied: itsdangerous<2.0,>=0.24 in /usr/local/lib/python3.7/dist-packages (from Flask>=1.1.1->dwave-inspector==0.2.7->dwave-ocean-sdk) (1.1.0)\n",
            "Requirement already satisfied: Werkzeug<2.0,>=0.15 in /usr/local/lib/python3.7/dist-packages (from Flask>=1.1.1->dwave-inspector==0.2.7->dwave-ocean-sdk) (1.0.1)\n",
            "Requirement already satisfied: zipp>=0.5 in /usr/local/lib/python3.7/dist-packages (from importlib-metadata>=1.0->dwave-greedy==0.2.1->dwave-ocean-sdk) (3.6.0)\n",
            "Requirement already satisfied: typing-extensions>=3.6.4 in /usr/local/lib/python3.7/dist-packages (from importlib-metadata>=1.0->dwave-greedy==0.2.1->dwave-ocean-sdk) (3.10.0.2)\n",
            "Requirement already satisfied: MarkupSafe>=0.23 in /usr/local/lib/python3.7/dist-packages (from Jinja2<3.0,>=2.10.1->Flask>=1.1.1->dwave-inspector==0.2.7->dwave-ocean-sdk) (2.0.1)\n",
            "Requirement already satisfied: protobuf>=3.14.0 in /usr/local/lib/python3.7/dist-packages (from ortools<9.0.0,>=6.6.4659->penaltymodel-mip==0.2.5->dwave-ocean-sdk) (3.17.3)\n",
            "Requirement already satisfied: absl-py>=0.11 in /usr/local/lib/python3.7/dist-packages (from ortools<9.0.0,>=6.6.4659->penaltymodel-mip==0.2.5->dwave-ocean-sdk) (0.12.0)\n",
            "Requirement already satisfied: urllib3!=1.25.0,!=1.25.1,<1.26,>=1.21.1 in /usr/local/lib/python3.7/dist-packages (from requests[socks]>=2.18->dwave-cloud-client==0.9.2->dwave-ocean-sdk) (1.24.3)\n",
            "Requirement already satisfied: certifi>=2017.4.17 in /usr/local/lib/python3.7/dist-packages (from requests[socks]>=2.18->dwave-cloud-client==0.9.2->dwave-ocean-sdk) (2021.10.8)\n",
            "Requirement already satisfied: chardet<4,>=3.0.2 in /usr/local/lib/python3.7/dist-packages (from requests[socks]>=2.18->dwave-cloud-client==0.9.2->dwave-ocean-sdk) (3.0.4)\n",
            "Requirement already satisfied: idna<3,>=2.5 in /usr/local/lib/python3.7/dist-packages (from requests[socks]>=2.18->dwave-cloud-client==0.9.2->dwave-ocean-sdk) (2.10)\n",
            "Requirement already satisfied: PySocks!=1.5.7,>=1.5.6 in /usr/local/lib/python3.7/dist-packages (from requests[socks]>=2.18->dwave-cloud-client==0.9.2->dwave-ocean-sdk) (1.7.1)\n"
          ]
        }
      ]
    },
    {
      "cell_type": "code",
      "metadata": {
        "id": "S28OJb2dNjGI"
      },
      "source": [
        "import networkx as nx\n",
        "from collections import defaultdict\n",
        "from dimod import BinaryQuadraticModel\n",
        "from tabu import TabuSampler        \n",
        "from dwave.system import DWaveSampler, EmbeddingComposite, LeapHybridSampler\n",
        "import neal\n",
        "import numpy as np\n"
      ],
      "execution_count": 3,
      "outputs": []
    },
    {
      "cell_type": "code",
      "metadata": {
        "id": "R6XBACpENjGP"
      },
      "source": [
        "#\n",
        "# Problem: Generate valid chess board configuartions using exactly 8 queens where none of the queens\n",
        "#          take the other using standard queen movement rules. \n",
        "#\n",
        "# \n",
        "#            \n",
        "\n",
        "# Using a 8x8 board, we define two states: queen on a square or not on a square\n",
        "\n",
        "# Rules\n",
        "# 1 - There must be exactly 8 queens on the board \n",
        "# 2 - The number of queens on any row must be < 2\n",
        "# 3 - The number of queens on any column must be < 2\n",
        "# 4 - The number of queens in any diagonal must be < 2\n",
        "\n",
        "# \n",
        "\n",
        "class board:\n",
        "\n",
        "    def __init__(self,board_size=8,n_queens=8, LG=1, useQPU=False, useNeal=False, n_reads=100, chain=1, token=None):\n",
        "        self.S = board_size\n",
        "        self.N = board_size**2\n",
        "        self.n_queens = n_queens\n",
        "        self.Q = defaultdict(int)\n",
        "        self.LG = LG\n",
        "        self.useQPU = useQPU\n",
        "        self.useNeal = useNeal\n",
        "        self.n_reads = n_reads\n",
        "        self.chain = chain\n",
        "        self.offset = 0\n",
        "        self.token=token\n",
        "    \n",
        "    def qubit_id(self,r,c):\n",
        "        return( r * self.S + c)\n",
        "\n",
        "    # Must have n queens on the board\n",
        "    def apply_const1(self, LG=1):\n",
        "        #linr = -((2*self.n_queens)+1)\n",
        "        linr = -((2*self.n_queens)-1)\n",
        "        quad = 2\n",
        "        offs = self.n_queens**2\n",
        "        self.offset += offs\n",
        "        \n",
        "        for r in range(self.S):\n",
        "            for c in range(self.S):\n",
        "                indx = self.qubit_id(r,c)\n",
        "                #print(r,c,indx)\n",
        "                self.Q[(indx,indx)] += self.LG * linr\n",
        "                for jndx in range(indx+1,self.N):\n",
        "                    self.Q[(indx,jndx)] += self.LG * quad\n",
        "        #print(self.Q)\n",
        "    \n",
        "    # Do not allow 2 or more on one row\n",
        "    \n",
        "    def apply_const2(self, LG=1):\n",
        "        linr = -4  # We want less than 2 per row (0 or 1 is acceptable)\n",
        "        quad = 4\n",
        "        offs = 0\n",
        "        self.offset += offs\n",
        "        \n",
        "        for r in range(self.S):\n",
        "            for c in range(self.S):\n",
        "                indx = self.qubit_id(r,c)\n",
        "                self.Q[(indx,indx)] += self.LG * linr\n",
        "                for c2 in range(self.S):\n",
        "                    jndx = self.qubit_id(r,c2)\n",
        "                    self.Q[(indx,jndx)] += self.LG * quad\n",
        "    \n",
        "    # Do not allow 2 or more on one column\n",
        "    \n",
        "    def apply_const3(self, LG=1):\n",
        "        linr = -4  # We want less than 2 per column (0 or 1 is acceptable)\n",
        "        quad = 4\n",
        "        offs = 0\n",
        "        self.offset += offs\n",
        "        \n",
        "        for r in range(self.S):\n",
        "            for c in range(self.S):\n",
        "                indx = self.qubit_id(r,c)\n",
        "                self.Q[(indx,indx)] += self.LG * linr\n",
        "                for r2 in range(self.S):\n",
        "                    if ( r != r2 ):\n",
        "                        jndx = self.qubit_id(r2,c)\n",
        "                        self.Q[(indx,jndx)] += self.LG * quad\n",
        "\n",
        "    # Do not allow 2 or more on one diagonal\n",
        "    # We do this by scanning each position and looking for a second\n",
        "    # position that is on a diagonal (|x1-x2| == |y1-y2|)\n",
        "    \n",
        "    def apply_const4(self, LG=1):\n",
        "        linr = -4  # We want less than 2 per diag (0 or 1 is acceptable)\n",
        "        quad = 4\n",
        "        offs = 0\n",
        "        self.offset += offs\n",
        "        \n",
        "        for r1 in range(self.S):\n",
        "            for c1 in range(self.S):\n",
        "                indx = self.qubit_id(r1,c1)\n",
        "                #self.Q[(indx,indx)] += self.LG * linr\n",
        "                for r2 in range(self.S):\n",
        "                    for c2 in range(self.S):\n",
        "                        if ( not ( (c1==c2)and(r1==r2))):\n",
        "                            jndx = self.qubit_id(r2,c2)\n",
        "                            #self.Q[(jndx,jndx)] += self.LG * linr\n",
        "                            if ( abs(r1-r2) == abs(c1-c2)):\n",
        "                                if ( indx != jndx ):\n",
        "                                    self.Q[(indx,jndx)] += self.LG * quad\n",
        "                                \n",
        "    def getQ(self):\n",
        "        return(self.Q)\n",
        "    \n",
        "    def printQ(self):\n",
        "        for r in range(self.N):\n",
        "            for c in range(self.N):\n",
        "                if ( c>=r ):\n",
        "                    if ( [n] == 1):\n",
        "                        print('. Q ', end='')\n",
        "                    else:\n",
        "                        print('....', end='')\n",
        "                else:\n",
        "                    print('    ')\n",
        "                print(\"|\")\n",
        "    def getSamples(self):\n",
        "        return(self.sampleset)\n",
        "    \n",
        "    def solve(self):\n",
        "\n",
        "\n",
        "        if ( self.useQPU ):\n",
        "            sampler = EmbeddingComposite(DWaveSampler(solver={'qpu': True}, token=self.token))\n",
        "            sampleset = sampler.sample_qubo(self.Q, num_reads=self.n_reads,chain_strength = self.chain)\n",
        "        elif ( self.useNeal ): \n",
        "            bqm = BinaryQuadraticModel.from_qubo(self.Q, offset=self.offset)\n",
        "            sampler = neal.SimulatedAnnealingSampler()\n",
        "            sampleset = sampler.sample(bqm, num_reads = self.n_reads, chain_strength = self.chain)\n",
        "        else:\n",
        "            print(\"Hybrid Solver\")\n",
        "            time_limit = 10\n",
        "            #bqm = BinaryQuadraticModel.from_qubo(self.Q, offset=self.offset)\n",
        "            #sampler = TabuSampler()\n",
        "            #sampleset = sampler.sample(bqm, num_reads = self.n_reads, chain_strength = self.chain)\n",
        "            bqm = BinaryQuadraticModel.from_qubo(self.Q, offset=self.offset)\n",
        "            sampler = LeapHybridSampler(token=self.token)\n",
        "            time_limit = max(time_limit,sampler.min_time_limit(bqm))\n",
        "            sampleset = sampler.sample(bqm, time_limit = time_limit, label=\"N-Queens\")\n",
        "\n",
        "        self.sampleset = sampleset;\n",
        "\n",
        "    def printBoard(self,result):\n",
        "        \n",
        "        variables = result[0]\n",
        "        energy = result[1]\n",
        "        print(\"\\nEnergy %f\" % (energy))\n",
        "        print(\"E+C %f\" % (energy+self.offset))\n",
        "        for r in range(self.S):\n",
        "            for c in range(self.S):\n",
        "                n = self.qubit_id(r,c)\n",
        "                if ( variables[n] == 1):\n",
        "                    print('| Q ', end='')\n",
        "                else:\n",
        "                    if ( r==c):\n",
        "                        print('|.o.', end='')\n",
        "                    else:\n",
        "                        print('|...', end='')\n",
        "            print(\"|\")\n",
        "\n",
        "    def printAll(self, max=10):\n",
        "        for res in self.sampleset.data():\n",
        "            #print(res[0])\n",
        "            self.printBoard(res)\n",
        "            max = max - 1\n",
        "            if ( max == 0 ): break\n"
      ],
      "execution_count": 4,
      "outputs": []
    },
    {
      "cell_type": "markdown",
      "metadata": {
        "id": "GXciMOihNjGV"
      },
      "source": [
        "# Prepare the problem size: S squares wide, N queens"
      ]
    },
    {
      "cell_type": "code",
      "metadata": {
        "id": "tag4mB2YNjGX"
      },
      "source": [
        "NQ=8\n",
        "NR=8\n",
        "F=NR/(NQ**2)\n",
        "# To use the Quantum Computer Hybrid Solver set: useQPU=False, useNeal=False\n",
        "# To use simulated annealing set: useQPU=False, useNeal=True\n",
        "cb = board(board_size=NR,n_queens=NQ, useQPU=False, useNeal = False, n_reads = 1000, chain=4, token=token)\n"
      ],
      "execution_count": 27,
      "outputs": []
    },
    {
      "cell_type": "markdown",
      "metadata": {
        "id": "-8S5NtHkNjGZ"
      },
      "source": [
        "# Apply the constraints\n",
        "\n"
      ]
    },
    {
      "cell_type": "code",
      "metadata": {
        "id": "wZTdpMNoNjGb"
      },
      "source": [
        "cb.apply_const1(LG=1)  # We want n queens\n",
        "\n",
        "cb.apply_const2(LG=F)  # We want no more than 1 per row\n",
        "\n",
        "cb.apply_const3(LG=F)  # We want no more than 1 per col\n",
        "\n",
        "cb.apply_const4(LG=F)  # We want no more than 1 per diag\n",
        "\n",
        "#print(max(cb.getQ().values()))\n",
        "#print(cb.getQ())\n"
      ],
      "execution_count": 28,
      "outputs": []
    },
    {
      "cell_type": "markdown",
      "metadata": {
        "id": "7OslxkXfNjGd"
      },
      "source": [
        "# Solve and print results"
      ]
    },
    {
      "cell_type": "code",
      "metadata": {
        "colab": {
          "base_uri": "https://localhost:8080/"
        },
        "id": "wR1E9IHcNjGf",
        "outputId": "119cfcf8-9802-4100-e261-5276b8cb7f12"
      },
      "source": [
        "cb.solve()\n",
        "cb.printAll(max = 3)\n",
        "#print(cb.getSamples())"
      ],
      "execution_count": 29,
      "outputs": [
        {
          "output_type": "stream",
          "name": "stdout",
          "text": [
            "Hybrid Solver\n",
            "\n",
            "Energy -32.000000\n",
            "E+C 32.000000\n",
            "|.o.|...|...|...| Q |...|...|...|\n",
            "| Q |.o.|...|...|...|...|...|...|\n",
            "|...|...|.o.|...|...|...|...| Q |\n",
            "|...|...|...| Q |...|...|...|...|\n",
            "|...| Q |...|...|.o.|...|...|...|\n",
            "|...|...|...|...|...|.o.| Q |...|\n",
            "|...|...| Q |...|...|...|.o.|...|\n",
            "|...|...|...|...|...| Q |...|.o.|\n"
          ]
        }
      ]
    },
    {
      "cell_type": "code",
      "metadata": {
        "id": "U6c8uBsyNjGn"
      },
      "source": [
        ""
      ],
      "execution_count": null,
      "outputs": []
    }
  ]
}